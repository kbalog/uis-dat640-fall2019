{
 "cells": [
  {
   "cell_type": "markdown",
   "metadata": {},
   "source": [
    "# Exercise #2: Classification evaluation measures\n",
    "\n",
    "Implement the computation of Accuracy, Precision, Recall, and F1-score."
   ]
  },
  {
   "cell_type": "code",
   "execution_count": 1,
   "metadata": {
    "collapsed": true
   },
   "outputs": [],
   "source": [
    "def confusion_matrix(actual, predicted):\n",
    "    \"\"\"Computes confusion matrix.\n",
    "    \n",
    "    Args:\n",
    "      actual: List of actual labels.\n",
    "      predicted: List of predicted labels.\n",
    "    Returns:\n",
    "      Four integers: TP, FN, FP, TN.\n",
    "    \"\"\"\n",
    "    tp, fn, fp, tn = 0, 0, 0, 0\n",
    "\n",
    "    for a, p in zip(actual, predicted):\n",
    "        tp += int(a == 1 and p == 1)\n",
    "        fn += int(a == 1 and p == 0)\n",
    "        fp += int(a == 0 and p == 1)\n",
    "        tn += int(a == 0 and p == 0)\n",
    "    \n",
    "    return tp, fn, fp, tn"
   ]
  },
  {
   "cell_type": "markdown",
   "metadata": {},
   "source": [
    "**Accuracy**: Number of correctly classified items out of all items \n",
    "\n",
    "$$ACC = \\frac{TP+TN}{TP+TN+FP+FN}$$"
   ]
  },
  {
   "cell_type": "code",
   "execution_count": 2,
   "metadata": {
    "collapsed": true
   },
   "outputs": [],
   "source": [
    "def accuracy(actual, predicted):\n",
    "    tp, fn, fp, tn = confusion_matrix(actual, predicted)\n",
    "    return (tp + tn) / (tp + fn + fp + tn) "
   ]
  },
  {
   "cell_type": "markdown",
   "metadata": {},
   "source": [
    "**Precision**: Number of items correctly identified as positive out of the total items identified as positive\n",
    "\n",
    "$$P = \\frac{TP}{TP+FP}$$"
   ]
  },
  {
   "cell_type": "code",
   "execution_count": 3,
   "metadata": {
    "collapsed": true
   },
   "outputs": [],
   "source": [
    "def precision(actual, predicted):\n",
    "    tp, fn, fp, tn = confusion_matrix(actual, predicted)\n",
    "    return tp / (tp + fp)"
   ]
  },
  {
   "cell_type": "markdown",
   "metadata": {},
   "source": [
    "**Recall**: Number of items correctly identified as positive out of the total actual positives\n",
    "\n",
    "$$R = \\frac{TP}{TP+FN}$$"
   ]
  },
  {
   "cell_type": "code",
   "execution_count": 4,
   "metadata": {
    "collapsed": true
   },
   "outputs": [],
   "source": [
    "def recall(actual, predicted):\n",
    "    tp, fn, fp, tn = confusion_matrix(actual, predicted)\n",
    "    return tp / (tp + fn)"
   ]
  },
  {
   "cell_type": "markdown",
   "metadata": {},
   "source": [
    "**F1-score**: The harmonic mean of precision and recall\n",
    "\n",
    "$$F1 = \\frac{2 \\cdot P \\cdot R}{P+R}$$"
   ]
  },
  {
   "cell_type": "code",
   "execution_count": 5,
   "metadata": {
    "collapsed": true
   },
   "outputs": [],
   "source": [
    "def f1(actual, predicted):\n",
    "    tp, fn, fp, tn = confusion_matrix(actual, predicted)\n",
    "    p = precision(actual, predicted)\n",
    "    r = recall(actual, predicted)\n",
    "    return (2 * p * r) / (p + r)"
   ]
  },
  {
   "cell_type": "markdown",
   "metadata": {},
   "source": [
    "Tests that needs to pass."
   ]
  },
  {
   "cell_type": "code",
   "execution_count": 6,
   "metadata": {
    "collapsed": false
   },
   "outputs": [
    {
     "name": "stderr",
     "output_type": "stream",
     "text": [
      "test_all (__main__.TestEvalMetrics) ... ok\n",
      "\n",
      "----------------------------------------------------------------------\n",
      "Ran 1 test in 0.001s\n",
      "\n",
      "OK\n"
     ]
    },
    {
     "data": {
      "text/plain": [
       "<unittest.main.TestProgram at 0x1067d62e8>"
      ]
     },
     "execution_count": 6,
     "metadata": {},
     "output_type": "execute_result"
    }
   ],
   "source": [
    "import unittest\n",
    "\n",
    "class TestEvalMetrics(unittest.TestCase):\n",
    "\n",
    "    def test_all(self):\n",
    "        actual = [1, 1, 0, 1, 1, 1, 0, 0, 1, 1]\n",
    "        predicted = [0, 1, 0, 1, 0, 1, 0, 1, 0, 0]\n",
    "        tp, fn, fp, tn = confusion_matrix(actual, predicted)\n",
    "        self.assertEqual(tp, 3)\n",
    "        self.assertEqual(fn, 4)\n",
    "        self.assertEqual(fp, 1)\n",
    "        self.assertEqual(tn, 2)\n",
    "        self.assertEqual(accuracy(actual, predicted), 0.5)\n",
    "        self.assertEqual(precision(actual, predicted), 3/4)\n",
    "        self.assertEqual(recall(actual, predicted), 3/7)\n",
    "        self.assertEqual(f1(actual, predicted), 6/11)\n",
    "\n",
    "unittest.main(argv=['-q', 'TestEvalMetrics'], verbosity=2, exit=False)"
   ]
  }
 ],
 "metadata": {
  "kernelspec": {
   "display_name": "Python 3",
   "language": "python",
   "name": "python3"
  },
  "language_info": {
   "codemirror_mode": {
    "name": "ipython",
    "version": 3
   },
   "file_extension": ".py",
   "mimetype": "text/x-python",
   "name": "python",
   "nbconvert_exporter": "python",
   "pygments_lexer": "ipython3",
   "version": "3.6.9"
  }
 },
 "nbformat": 4,
 "nbformat_minor": 2
}
