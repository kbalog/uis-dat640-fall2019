{
 "cells": [
  {
   "cell_type": "markdown",
   "metadata": {},
   "source": [
    "# Exercise #4: Retrieval evaluation, graded relevance\n",
    "\n",
    "  - Compute retrieval evaluation metrics using graded relevance: NDCG@5 and NDCG@10\n",
    "  - Compute the metrics for each query individually, as well as the averages over the entire query set\n",
    "  - Note: this exercise uses the system ranking and ground truth as in the paper-based Exercise #3    "
   ]
  },
  {
   "cell_type": "code",
   "execution_count": 1,
   "metadata": {
    "collapsed": true
   },
   "outputs": [],
   "source": [
    "import math"
   ]
  },
  {
   "cell_type": "markdown",
   "metadata": {},
   "source": [
    "### Rankings produced for each query\n",
    "\n",
    "The key is the queryID, the value is a list of docIDs "
   ]
  },
  {
   "cell_type": "code",
   "execution_count": 2,
   "metadata": {
    "collapsed": true
   },
   "outputs": [],
   "source": [
    "rankings = {\n",
    "    \"q1\": [2, 1, 3, 4, 5, 6, 10, 7, 9, 8],\n",
    "    \"q2\": [1, 2, 9, 4, 5, 6, 7, 8, 3, 10],\n",
    "    \"q3\": [1, 7, 4, 5, 3, 6, 9, 8, 10, 2]\n",
    "}"
   ]
  },
  {
   "cell_type": "markdown",
   "metadata": {},
   "source": [
    "### Ground truth\n",
    "\n",
    "The key is the queryID, the value is a dictionary with (docID, level) pairs. Relevance level is on a 3-point scale: non-relevant (0), poor (1), good (2), excellent (3). Documents not listed here are non-relevant (level=0)."
   ]
  },
  {
   "cell_type": "code",
   "execution_count": 3,
   "metadata": {
    "collapsed": false
   },
   "outputs": [],
   "source": [
    "gtruth = {\n",
    "    \"q1\": {4: 3, 1: 2, 2: 1},\n",
    "    \"q2\": {3: 3, 4: 3, 1: 2, 2: 1, 8: 1},\n",
    "    \"q3\": {1: 3, 4: 3, 7: 2, 5: 2, 6: 1, 8: 1}\n",
    "}"
   ]
  },
  {
   "cell_type": "markdown",
   "metadata": {},
   "source": [
    "## Computing evaluation metrics\n",
    "\n",
    "Discounted cumulative gain at rank p:\n",
    "$DCG_p = rel_1 + \\sum_{i=2}^p\\frac{rel_i}{\\log_2 i}$\n",
    "\n",
    "Normalized discounted cumulative gain at rank p:\n",
    "$NDCG_p = \\frac{DCG_p}{IDCG}$\n",
    "\n",
    "where IDCG is the DCG_p score of an idealized (perfect) ranking."
   ]
  },
  {
   "cell_type": "markdown",
   "metadata": {},
   "source": [
    "### Function that computes DCG_p\n",
    "\n",
    "It takes a list of relevance levels (corresponding to the documents) and rank position p"
   ]
  },
  {
   "cell_type": "code",
   "execution_count": 4,
   "metadata": {
    "collapsed": true
   },
   "outputs": [],
   "source": [
    "def dcg(rel, p):\n",
    "    dcg = rel[0]\n",
    "    for i in range(1, min(p, len(rel))): \n",
    "        dcg += rel[i] / math.log(i + 1, 2)  # rank position is indexed from 1..\n",
    "    return dcg"
   ]
  },
  {
   "cell_type": "markdown",
   "metadata": {},
   "source": [
    "### Evaluating all queries"
   ]
  },
  {
   "cell_type": "code",
   "execution_count": 5,
   "metadata": {
    "collapsed": false
   },
   "outputs": [
    {
     "name": "stdout",
     "output_type": "stream",
     "text": [
      "Query q1\n",
      "\tGains: [1, 2, 0, 3, 0, 0, 0, 0, 0, 0]\n",
      "\tIdeal gains: [3, 2, 1]\n",
      "\tNDCG@5: 0.799 \n",
      "\tNDCG@10: 0.799\n",
      "Query q2\n",
      "\tGains: [2, 1, 0, 3, 0, 0, 0, 1, 3, 0]\n",
      "\tIdeal gains: [3, 3, 2, 1, 1]\n",
      "\tNDCG@5: 0.549 \n",
      "\tNDCG@10: 0.705\n",
      "Query q3\n",
      "\tGains: [3, 2, 3, 2, 0, 1, 0, 1, 0, 0]\n",
      "\tIdeal gains: [3, 3, 2, 2, 1, 1]\n",
      "\tNDCG@5: 0.908 \n",
      "\tNDCG@10: 0.949\n",
      "Average\n",
      "\tNDCG@5: 0.752 \n",
      "\tNDCG@10: 0.818\n"
     ]
    }
   ],
   "source": [
    "sum_ndcg5 = 0\n",
    "sum_ndcg10 = 0\n",
    "\n",
    "for qid, ranking in sorted(rankings.items()):\n",
    "    gt = gtruth[qid]    \n",
    "    print(\"Query\", qid)\n",
    "    \n",
    "    gains = [] # holds corresponding relevance levels for the ranked docs\n",
    "    for doc_id in ranking: \n",
    "        gain = gt.get(doc_id, 0)\n",
    "        gains.append(gain)\n",
    "    print(\"\\tGains:\", gains)\n",
    "    \n",
    "    # relevance levels of the idealized ranking\n",
    "    gain_ideal = sorted([v for _, v in gt.items()], reverse=True)\n",
    "    print(\"\\tIdeal gains:\", gain_ideal)\n",
    "    \n",
    "    ndcg5 = dcg(gains, 5) / dcg(gain_ideal, 5)\n",
    "    ndcg10 = dcg(gains, 10) / dcg(gain_ideal, 10)\n",
    "    sum_ndcg5 += ndcg5\n",
    "    sum_ndcg10 += ndcg10\n",
    "    \n",
    "    print(\"\\tNDCG@5:\", round(ndcg5, 3), \"\\n\\tNDCG@10:\", round(ndcg10, 3))\n",
    "\n",
    "print(\"Average\")\n",
    "print(\"\\tNDCG@5:\", round(sum_ndcg5 / len(rankings), 3), \"\\n\\tNDCG@10:\", round(sum_ndcg10 / len(rankings), 3))    "
   ]
  },
  {
   "cell_type": "markdown",
   "metadata": {},
   "source": [
    "## Feedback\n",
    "\n",
    "Please give (anonymous) feedback on this exercise by filling out [this form](https://forms.gle/22o3ursi5YsR1Ztb8)."
   ]
  }
 ],
 "metadata": {
  "kernelspec": {
   "display_name": "Python 3",
   "language": "python",
   "name": "python3"
  },
  "language_info": {
   "codemirror_mode": {
    "name": "ipython",
    "version": 3
   },
   "file_extension": ".py",
   "mimetype": "text/x-python",
   "name": "python",
   "nbconvert_exporter": "python",
   "pygments_lexer": "ipython3",
   "version": "3.6.9"
  }
 },
 "nbformat": 4,
 "nbformat_minor": 0
}
