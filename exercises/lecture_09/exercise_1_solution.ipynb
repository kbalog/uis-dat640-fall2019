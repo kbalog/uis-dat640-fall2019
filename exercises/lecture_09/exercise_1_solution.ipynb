{
 "cells": [
  {
   "cell_type": "markdown",
   "metadata": {},
   "source": [
    "# Exercise #1: Term weighting and vector space retrieval\n",
    "\n",
    "Score a toy-sized document collection against a query using the vector space model. Use TFIDF term weighting and cosine similarity."
   ]
  },
  {
   "cell_type": "code",
   "execution_count": 2,
   "metadata": {
    "collapsed": true
   },
   "outputs": [],
   "source": [
    "import math\n",
    "import operator"
   ]
  },
  {
   "cell_type": "markdown",
   "metadata": {},
   "source": [
    "Term-document matrix\n",
    "\n",
    "| term | D1 | D2 | D3 | D4 | D5 |\n",
    "| -- |:--:|:--:|:--:|:--:|:--:|\n",
    "| beijing | | 1 | | | 1 |\n",
    "| dish | | 1 | | | 1 |\n",
    "| duck | 3 | 2 | 2 | | 1 |\n",
    "| rabbit | | | 1 | 1 | |\n",
    "| recipe | | | 1 | 1 | 1 |"
   ]
  },
  {
   "cell_type": "code",
   "execution_count": 3,
   "metadata": {
    "collapsed": true
   },
   "outputs": [],
   "source": [
    "td_matrix = {\n",
    "    \"beijing\": [0, 1, 0, 0, 1],\n",
    "    \"dish\": [0, 1, 0, 0, 1],\n",
    "    \"duck\": [3, 2, 2, 0, 1],\n",
    "    \"rabbit\": [0, 0, 1, 1, 0],\n",
    "    \"recipe\": [0, 0, 1, 1, 1],\n",
    "}"
   ]
  },
  {
   "cell_type": "markdown",
   "metadata": {},
   "source": [
    "The vocabulary is a list of terms. We sort them here, but that's not necessary.\n",
    "(You may use this list each time you need to iterate through the vocabulary of terms.)"
   ]
  },
  {
   "cell_type": "code",
   "execution_count": 4,
   "metadata": {
    "collapsed": true
   },
   "outputs": [],
   "source": [
    "voc = list(td_matrix.keys())\n",
    "voc.sort()"
   ]
  },
  {
   "cell_type": "markdown",
   "metadata": {},
   "source": [
    "The number of documents is set manually for simplicity"
   ]
  },
  {
   "cell_type": "code",
   "execution_count": 5,
   "metadata": {
    "collapsed": true
   },
   "outputs": [],
   "source": [
    "NUM_DOCS = 5"
   ]
  },
  {
   "cell_type": "markdown",
   "metadata": {},
   "source": [
    "The query is given as a sequence of terms"
   ]
  },
  {
   "cell_type": "code",
   "execution_count": 6,
   "metadata": {
    "collapsed": true
   },
   "outputs": [],
   "source": [
    "query = [\"beijing\", \"duck\", \"recipe\"]"
   ]
  },
  {
   "cell_type": "markdown",
   "metadata": {},
   "source": [
    "## TFIDF term weighting\n",
    "\n",
    "Use normalized frequencies for TF weight, i.e., $tf_{t,d}=\\frac{f_{t,d}}{|d|}$, where $f_{t,d}$ is the number of occurrences of term $t$ in document $d$ and $|d|$ is the document length (=total number of terms).\n",
    "\n",
    "Compute IDF values using the following formula: $idf_{t}=\\log \\frac{N}{n_t}$, where $N$ is the total number of document and $n_t$ is the number of documents that contain term $t$.  (Use base 10 for the logarithm to get the same values as for the paper-based exercise.)"
   ]
  },
  {
   "cell_type": "code",
   "execution_count": 7,
   "metadata": {
    "collapsed": false
   },
   "outputs": [],
   "source": [
    "idf = []  # idf[i] holds the IDF weight for term voc[i]\n",
    "for t in voc:    \n",
    "    nt = sum([1 for x in td_matrix[t] if x >0]) # number of documents that contain t\n",
    "    idf.append(math.log(NUM_DOCS / nt, 10))"
   ]
  },
  {
   "cell_type": "code",
   "execution_count": 8,
   "metadata": {
    "collapsed": false
   },
   "outputs": [
    {
     "data": {
      "text/plain": [
       "[0.3979400086720376,\n",
       " 0.3979400086720376,\n",
       " 0.0969100130080564,\n",
       " 0.3979400086720376,\n",
       " 0.22184874961635637]"
      ]
     },
     "execution_count": 8,
     "metadata": {},
     "output_type": "execute_result"
    }
   ],
   "source": [
    "idf"
   ]
  },
  {
   "cell_type": "markdown",
   "metadata": {},
   "source": [
    "### Term weighting for documents\n",
    "\n",
    "Takes term-document matrix as an argument."
   ]
  },
  {
   "cell_type": "code",
   "execution_count": 9,
   "metadata": {
    "collapsed": false
   },
   "outputs": [],
   "source": [
    "def tfidf_docs(tdm):\n",
    "    tdm_tfidf = {}\n",
    "    \n",
    "    dlen = []  # dlen[i] stores the length of the i-th document\n",
    "    for d in range(NUM_DOCS):\n",
    "        l = 0\n",
    "        for t in voc:\n",
    "            l += td_matrix[t][d]\n",
    "        #sum([x for t in voc for x in td_matrix[t][d]])\n",
    "        dlen.append(l)\n",
    "    \n",
    "    # iterate through terms\n",
    "    for i, t in enumerate(voc):\n",
    "        td = tdm[t]  # vector of docs for the given term\n",
    "        tdm_tfidf[t] = []\n",
    "        for d, f in enumerate(td):\n",
    "            # f is the frequency of term t for doc d\n",
    "            # Compute TFIDF score for term t in doc d\n",
    "            tf = f / dlen[d]\n",
    "            tfidf = tf * idf[i]\n",
    "            tdm_tfidf[t].append(round(tfidf, 3))  # round to 3 digits\n",
    "    \n",
    "    return tdm_tfidf"
   ]
  },
  {
   "cell_type": "markdown",
   "metadata": {},
   "source": [
    "Perform TFIDF-weighting for documents"
   ]
  },
  {
   "cell_type": "code",
   "execution_count": 10,
   "metadata": {
    "collapsed": false
   },
   "outputs": [],
   "source": [
    "tdm_tfidf = tfidf_docs(td_matrix)"
   ]
  },
  {
   "cell_type": "code",
   "execution_count": 11,
   "metadata": {
    "collapsed": false
   },
   "outputs": [
    {
     "data": {
      "text/plain": [
       "{'beijing': [0.0, 0.099, 0.0, 0.0, 0.099],\n",
       " 'dish': [0.0, 0.099, 0.0, 0.0, 0.099],\n",
       " 'duck': [0.097, 0.048, 0.048, 0.0, 0.024],\n",
       " 'rabbit': [0.0, 0.0, 0.099, 0.199, 0.0],\n",
       " 'recipe': [0.0, 0.0, 0.055, 0.111, 0.055]}"
      ]
     },
     "execution_count": 11,
     "metadata": {},
     "output_type": "execute_result"
    }
   ],
   "source": [
    "tdm_tfidf"
   ]
  },
  {
   "cell_type": "markdown",
   "metadata": {},
   "source": [
    "## TFIDF term weighting for the query\n",
    "\n",
    "Takes query term vector as an argument"
   ]
  },
  {
   "cell_type": "code",
   "execution_count": 12,
   "metadata": {
    "collapsed": true
   },
   "outputs": [],
   "source": [
    "def tfidf_q(tqv):\n",
    "    tqv_tfidf = []\n",
    "    for i, t in enumerate(voc):\n",
    "        # tqv[i] holds the raw frequency for term t\n",
    "        tf = tqv[i] / len(query)\n",
    "        tfidf = tf * idf[i]\n",
    "        tqv_tfidf.append(round(tfidf, 3))  # round to 3 digits\n",
    "    return tqv_tfidf"
   ]
  },
  {
   "cell_type": "markdown",
   "metadata": {},
   "source": [
    "Create a term vector for the query and perform TFIDF weighting"
   ]
  },
  {
   "cell_type": "code",
   "execution_count": 13,
   "metadata": {
    "collapsed": true
   },
   "outputs": [],
   "source": [
    "tqv = []\n",
    "for t in voc:\n",
    "    tqv.append(query.count(t) if t in query else 0)"
   ]
  },
  {
   "cell_type": "code",
   "execution_count": 14,
   "metadata": {
    "collapsed": true
   },
   "outputs": [],
   "source": [
    "tqv_tfidf = tfidf_q(tqv)"
   ]
  },
  {
   "cell_type": "markdown",
   "metadata": {},
   "source": [
    "Print original and TFIDF-weighted query vectors"
   ]
  },
  {
   "cell_type": "code",
   "execution_count": 15,
   "metadata": {
    "collapsed": false
   },
   "outputs": [
    {
     "name": "stdout",
     "output_type": "stream",
     "text": [
      "[1, 0, 1, 0, 1] => [0.133, 0.0, 0.032, 0.0, 0.074]\n"
     ]
    }
   ],
   "source": [
    "print(tqv, \"=>\", tqv_tfidf)"
   ]
  },
  {
   "cell_type": "markdown",
   "metadata": {},
   "source": [
    "## Scoring documents"
   ]
  },
  {
   "cell_type": "markdown",
   "metadata": {},
   "source": [
    "### Cosine similarity between a document and a query vector\n",
    "\n",
    "$cosine(\\mathbf{d}, \\mathbf{q})= \\frac{\\mathbf{d} \\cdot \\mathbf{q}}{||\\mathbf{d}||~||\\mathbf{q}||} =\\frac{\\sum_{t} w_{t,d}\\times w_{t,q}}{\\sqrt{\\sum_{t} w_{t,d}^2 \\sum_{t} w_{t,q}^2}}$"
   ]
  },
  {
   "cell_type": "code",
   "execution_count": 16,
   "metadata": {
    "collapsed": false
   },
   "outputs": [],
   "source": [
    "def cosine(dv, qv):\n",
    "    sumdq, sumd, sumq = 0, 0, 0\n",
    "    # Iterate two lists parallel    \n",
    "    for wtd, wtq in zip(dv, qv):\n",
    "        sumdq += wtd * wtq\n",
    "        sumd += wtd**2\n",
    "        sumq += wtq**2\n",
    "    return sumdq / math.sqrt(sumd * sumq)"
   ]
  },
  {
   "cell_type": "markdown",
   "metadata": {},
   "source": [
    "### Scoring"
   ]
  },
  {
   "cell_type": "code",
   "execution_count": 17,
   "metadata": {
    "collapsed": false
   },
   "outputs": [
    {
     "name": "stdout",
     "output_type": "stream",
     "text": [
      "scoring D0 [0.0, 0.0, 0.097, 0.0, 0.0] vs.  [0.133, 0.0, 0.032, 0.0, 0.074] 0.206\n",
      "scoring D1 [0.099, 0.099, 0.048, 0.0, 0.0] vs.  [0.133, 0.0, 0.032, 0.0, 0.074] 0.639\n",
      "scoring D2 [0.0, 0.0, 0.048, 0.099, 0.055] vs.  [0.133, 0.0, 0.032, 0.0, 0.074] 0.293\n",
      "scoring D3 [0.0, 0.0, 0.0, 0.199, 0.111] vs.  [0.133, 0.0, 0.032, 0.0, 0.074] 0.232\n",
      "scoring D4 [0.099, 0.099, 0.024, 0.0, 0.055] vs.  [0.133, 0.0, 0.032, 0.0, 0.074] 0.76\n"
     ]
    }
   ],
   "source": [
    "scores = {}\n",
    "\n",
    "for d in range(NUM_DOCS):\n",
    "    dtv = []\n",
    "    for t in voc:\n",
    "        dtv.append(tdm_tfidf[t][d])\n",
    "    score = round(cosine(dtv, tqv_tfidf), 3)  # round to 3 digits\n",
    "    scores[d] = score\n",
    "    print(\"scoring D\" + str(d), dtv, \"vs. \", tqv_tfidf, score)    "
   ]
  },
  {
   "cell_type": "markdown",
   "metadata": {},
   "source": [
    "#### Output documents sorted by relevance score"
   ]
  },
  {
   "cell_type": "code",
   "execution_count": 18,
   "metadata": {
    "collapsed": false
   },
   "outputs": [
    {
     "name": "stdout",
     "output_type": "stream",
     "text": [
      "D5: 0.76\n",
      "D2: 0.639\n",
      "D3: 0.293\n",
      "D4: 0.232\n",
      "D1: 0.206\n"
     ]
    }
   ],
   "source": [
    "for d, score in sorted(scores.items(), key=operator.itemgetter(1), reverse=True):\n",
    "    print(\"D\" + str(d+1) + \": \" + str(score))"
   ]
  },
  {
   "cell_type": "markdown",
   "metadata": {},
   "source": [
    "## Optional exercise\n",
    "\n",
    "Use a different retrieval function $$score(d,q) = \\sum_{t \\in q\\cap d} f_{t,q} \\times f_{t,d} \\times \\log \\frac{N}{n_t}$$\n",
    "\n",
    "Compare the ranking it yields to that of obtained using the cosine similarity."
   ]
  },
  {
   "cell_type": "code",
   "execution_count": 23,
   "metadata": {
    "collapsed": false
   },
   "outputs": [
    {
     "name": "stdout",
     "output_type": "stream",
     "text": [
      "D5: 0.717\n",
      "D2: 0.592\n",
      "D3: 0.416\n",
      "D1: 0.291\n",
      "D4: 0.222\n"
     ]
    }
   ],
   "source": [
    "def alternative_scoring(dtv, qtv, idf):\n",
    "    \"\"\"\n",
    "    Params:\n",
    "      dtv: Document term vector (raw term frequencies)\n",
    "      qtv: Query term vectors (raw term frequencies)\n",
    "      idf: IDF values for each term in the vocabulary\n",
    "    \"\"\"\n",
    "    score = 0\n",
    "    for i in range(len(idf)):\n",
    "        score += dtv[i] * qtv[i] * idf[i]\n",
    "    return score\n",
    "    \n",
    "scores2 = {}\n",
    "\n",
    "for d in range(NUM_DOCS):\n",
    "    dtv = []\n",
    "    for t in voc:\n",
    "        dtv.append(td_matrix[t][d])\n",
    "    scores2[d] = round(alternative_scoring(dtv, tqv, idf), 3)  # round to 3 digits\n",
    "\n",
    "for d, score in sorted(scores2.items(), key=operator.itemgetter(1), reverse=True):\n",
    "    print(\"D\" + str(d+1) + \": \" + str(score))    "
   ]
  },
  {
   "cell_type": "markdown",
   "metadata": {},
   "source": [
    "## Feedback\n",
    "\n",
    "Please give (anonymous) feedback on this exercise by filling out [this form](https://forms.gle/22o3ursi5YsR1Ztb8)."
   ]
  }
 ],
 "metadata": {
  "kernelspec": {
   "display_name": "Python 3",
   "language": "python",
   "name": "python3"
  },
  "language_info": {
   "codemirror_mode": {
    "name": "ipython",
    "version": 3
   },
   "file_extension": ".py",
   "mimetype": "text/x-python",
   "name": "python",
   "nbconvert_exporter": "python",
   "pygments_lexer": "ipython3",
   "version": "3.6.9"
  }
 },
 "nbformat": 4,
 "nbformat_minor": 0
}
