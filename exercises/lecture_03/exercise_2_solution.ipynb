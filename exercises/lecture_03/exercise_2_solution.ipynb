{
 "cells": [
  {
   "cell_type": "markdown",
   "metadata": {},
   "source": [
    "# Exercise #2: Evaluating multi-class classification\n",
    "\n",
    "Implement the computation of micro- and macro-averaged Accuracy, Precision, Recall, and F1-score in Python."
   ]
  },
  {
   "cell_type": "code",
   "execution_count": 1,
   "metadata": {
    "collapsed": true
   },
   "outputs": [],
   "source": [
    "actual = [0, 1, 1, 1, 2, 2, 3, 3, 3]\n",
    "predicted = [0, 1, 1, 2, 0, 2, 3, 3, 0]"
   ]
  },
  {
   "cell_type": "markdown",
   "metadata": {},
   "source": [
    "Compute TP, FN, FP, and TN for each class"
   ]
  },
  {
   "cell_type": "code",
   "execution_count": 2,
   "metadata": {
    "collapsed": false
   },
   "outputs": [],
   "source": [
    "tp, fn, fp, tn = [], [], [], [] \n",
    "\n",
    "for c in sorted(set(actual)):\n",
    "    tpc, fnc, fpc, tnc = 0, 0, 0, 0  # TP, FN, TP, TN for the given class\n",
    "    for i in range(len(actual)):\n",
    "        if actual[i] == c:\n",
    "            if predicted[i] == c:\n",
    "                tpc += 1\n",
    "            else:\n",
    "                fnc += 1\n",
    "        else:  # actual[i] != c\n",
    "            if predicted[i] == c:\n",
    "                fpc += 1\n",
    "            else:\n",
    "                tnc += 1\n",
    "    tp.append(tpc)\n",
    "    fn.append(fnc)\n",
    "    fp.append(fpc)\n",
    "    tn.append(tnc)"
   ]
  },
  {
   "cell_type": "markdown",
   "metadata": {},
   "source": [
    "Number of classes"
   ]
  },
  {
   "cell_type": "code",
   "execution_count": 3,
   "metadata": {
    "collapsed": false
   },
   "outputs": [],
   "source": [
    "k = len(tp)"
   ]
  },
  {
   "cell_type": "markdown",
   "metadata": {},
   "source": [
    "### F1-score"
   ]
  },
  {
   "cell_type": "code",
   "execution_count": 4,
   "metadata": {
    "collapsed": true
   },
   "outputs": [],
   "source": [
    "def f1(p, r):\n",
    "    return (2 * p * r) / (p + r)"
   ]
  },
  {
   "cell_type": "markdown",
   "metadata": {},
   "source": [
    "## Micro-averages\n",
    "\n",
    "$$P_\\mu = \\frac{\\sum_{i=1}^k TP_i}{\\sum_{i=1}^k (TP_i+FP_i)}$$\n",
    "\n",
    "$$R_\\mu = \\frac{\\sum_{i=1}^k TP_i}{\\sum_{i=1}^k (TP_i+FN_i)}$$\n",
    "\n",
    "$$F1_\\mu = \\frac{2 \\cdot P_\\mu \\cdot R_\\mu}{P_\\mu+R_\\mu}$$"
   ]
  },
  {
   "cell_type": "code",
   "execution_count": 5,
   "metadata": {
    "collapsed": false
   },
   "outputs": [
    {
     "name": "stdout",
     "output_type": "stream",
     "text": [
      "Micro P:  0.6666666666666666\n",
      "Micro R:  0.6666666666666666\n",
      "Micro F1: 0.6666666666666666\n"
     ]
    }
   ],
   "source": [
    "micro_p_counter, micro_p_divider = 0, 0 \n",
    "micro_r_counter, micro_r_divider = 0, 0 \n",
    "\n",
    "for i in range(k):\n",
    "    micro_p_counter += tp[i]\n",
    "    micro_p_divider += tp[i] + fp[i]\n",
    "    micro_r_counter += tp[i]\n",
    "    micro_r_divider += tp[i] + fn[i]\n",
    "\n",
    "micro_p = micro_p_counter / micro_p_divider\n",
    "micro_r = micro_r_counter / micro_r_divider\n",
    "\n",
    "print(\"Micro P:  {}\".format(micro_p))\n",
    "print(\"Micro R:  {}\".format(micro_r))\n",
    "print(\"Micro F1: {}\".format(f1(micro_p, micro_r)))"
   ]
  },
  {
   "cell_type": "markdown",
   "metadata": {},
   "source": [
    "## Macro-averages\n",
    "\n",
    "$$P_M = \\frac{\\sum_{i=1}^k \\frac{TP_i}{TP_i+FP_i}}{k}$$\n",
    "\n",
    "$$R_M = \\frac{\\sum_{i=1}^k \\frac{TP_i}{TP_i+FN_i}}{k}$$\n",
    "\n",
    "$$F1_M = \\frac{\\sum_{i=1}^k \\frac{2 \\cdot P_i \\cdot R_i}{P_i+R_i} }{k}$$\n",
    "\n",
    "  - where $P_i$ and $R_i$ are precision and recall for class $i$, respectively."
   ]
  },
  {
   "cell_type": "code",
   "execution_count": 6,
   "metadata": {
    "collapsed": false
   },
   "outputs": [
    {
     "name": "stdout",
     "output_type": "stream",
     "text": [
      "Macro P:  0.7083333333333333\n",
      "Macro R:  0.7083333333333333\n",
      "Macro F1: 0.65\n"
     ]
    }
   ],
   "source": [
    "macro_p_counter = 0\n",
    "macro_r_counter = 0\n",
    "macro_f1_counter = 0\n",
    "\n",
    "for i in range(k):\n",
    "    class_p = tp[i] / (tp[i] + fp[i])\n",
    "    class_r = tp[i] / (tp[i] + fn[i])\n",
    "    macro_p_counter += class_p\n",
    "    macro_r_counter += class_r\n",
    "    macro_f1_counter += f1(class_p, class_r)\n",
    "\n",
    "macro_p = macro_p_counter / k\n",
    "macro_r = macro_r_counter / k\n",
    "macro_f1 = macro_f1_counter / k\n",
    "\n",
    "print(\"Macro P:  {}\".format(macro_p))\n",
    "print(\"Macro R:  {}\".format(macro_r))\n",
    "print(\"Macro F1: {}\".format(macro_f1))"
   ]
  }
 ],
 "metadata": {
  "kernelspec": {
   "display_name": "Python 3",
   "language": "python",
   "name": "python3"
  },
  "language_info": {
   "codemirror_mode": {
    "name": "ipython",
    "version": 3
   },
   "file_extension": ".py",
   "mimetype": "text/x-python",
   "name": "python",
   "nbconvert_exporter": "python",
   "pygments_lexer": "ipython3",
   "version": "3.6.9"
  }
 },
 "nbformat": 4,
 "nbformat_minor": 2
}
