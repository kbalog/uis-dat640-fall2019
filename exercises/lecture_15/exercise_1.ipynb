{
 "cells": [
  {
   "cell_type": "markdown",
   "metadata": {},
   "source": [
    "# Exercise #1: PRMS for entity ranking\n",
    "\n",
    "You are provided with an MLM ranker for movies. Your task is to implement PRMS for dynamic term weighting."
   ]
  },
  {
   "cell_type": "code",
   "execution_count": 33,
   "metadata": {
    "collapsed": true
   },
   "outputs": [],
   "source": [
    "import requests\n",
    "import urllib.parse\n",
    "import wikipediaapi\n",
    "from elasticsearch import Elasticsearch"
   ]
  },
  {
   "cell_type": "code",
   "execution_count": 2,
   "metadata": {
    "collapsed": true
   },
   "outputs": [],
   "source": [
    "INDEX_NAME = \"movies\""
   ]
  },
  {
   "cell_type": "markdown",
   "metadata": {},
   "source": [
    "## Build a local Elasticsearch index of a set of selected movies\n",
    "\n",
    "Build a fielded Elasticsearch index of movies, with title, description, categories, directors, and actors fields."
   ]
  },
  {
   "cell_type": "code",
   "execution_count": 16,
   "metadata": {
    "collapsed": true
   },
   "outputs": [],
   "source": [
    "wiki_wiki = wikipediaapi.Wikipedia(\"en\")"
   ]
  },
  {
   "cell_type": "markdown",
   "metadata": {},
   "source": [
    "We collect some movie titles from a few specific studios. Note that not all pages will be actual movies, but we'll filter those out later at indexing time."
   ]
  },
  {
   "cell_type": "code",
   "execution_count": 10,
   "metadata": {
    "collapsed": true
   },
   "outputs": [],
   "source": [
    "def get_category_pages(cat_name):\n",
    "    pages = []\n",
    "    cat = wiki_wiki.page(cat_name)\n",
    "    for c in cat.categorymembers.values():\n",
    "        if c.ns != wikipediaapi.Namespace.CATEGORY:\n",
    "            pages.append(c.title)\n",
    "    return pages"
   ]
  },
  {
   "cell_type": "code",
   "execution_count": 11,
   "metadata": {
    "collapsed": false
   },
   "outputs": [
    {
     "name": "stdout",
     "output_type": "stream",
     "text": [
      "['List of 20th Century Fox films (1935–99)', 'List of 20th Century Fox films (2000–present)', 'The 3rd Voice', '4 Clowns', '5 Fingers', '9 to 5 (film)', '12 Rounds (film)', '13 Fighting Men', '13 Lead Soldiers', 'The 13th Letter']\n"
     ]
    }
   ],
   "source": [
    "categories = [\"Category:20th_Century_Fox_films\", \"Category:Warner_Bros._films\", \"Category:Metro-Goldwyn-Mayer_films\"]\n",
    "pages = []\n",
    "\n",
    "for cat_name in categories:\n",
    "    pages += get_category_pages(cat_name)\n",
    "\n",
    "print(pages[:10])"
   ]
  },
  {
   "cell_type": "markdown",
   "metadata": {},
   "source": [
    "Fetching movie details from DBpedia and indexing."
   ]
  },
  {
   "cell_type": "code",
   "execution_count": 18,
   "metadata": {
    "collapsed": false
   },
   "outputs": [
    {
     "data": {
      "text/plain": [
       "{'acknowledged': True, 'index': 'movies', 'shards_acknowledged': True}"
      ]
     },
     "execution_count": 18,
     "metadata": {},
     "output_type": "execute_result"
    }
   ],
   "source": [
    "es = Elasticsearch()\n",
    "\n",
    "if es.indices.exists(INDEX_NAME):\n",
    "    es.indices.delete(index=INDEX_NAME)\n",
    "    \n",
    "es.indices.create(index=INDEX_NAME)"
   ]
  },
  {
   "cell_type": "markdown",
   "metadata": {},
   "source": [
    "Creating a fielded document representation for a movie. Some predicates are single-valued while others are multi-valued."
   ]
  },
  {
   "cell_type": "code",
   "execution_count": 28,
   "metadata": {
    "collapsed": true
   },
   "outputs": [],
   "source": [
    "TYPE_PREDICATE = \"http://www.w3.org/1999/02/22-rdf-syntax-ns#type\"\n",
    "TITLE_PREDICATE = \"http://xmlns.com/foaf/0.1/name\"\n",
    "DESCRIPTION_PREDICATE = \"http://www.w3.org/2000/01/rdf-schema#comment\"\n",
    "CATEGORIES_PREDICATE = \"http://purl.org/dc/terms/subject\"\n",
    "DIRECTORS_PREDICATE = \"http://dbpedia.org/ontology/director\"\n",
    "ACTORS_PREDICATE = \"http://dbpedia.org/ontology/director\""
   ]
  },
  {
   "cell_type": "code",
   "execution_count": 27,
   "metadata": {
    "collapsed": true
   },
   "outputs": [],
   "source": [
    "def has_type(properties, target_type):\n",
    "    if TYPE_PREDICATE not in properties:\n",
    "        return False\n",
    "    for p in properties[TYPE_PREDICATE]:\n",
    "        if p['value'] == target_type:\n",
    "            return True\n",
    "    return False"
   ]
  },
  {
   "cell_type": "code",
   "execution_count": 22,
   "metadata": {
    "collapsed": true
   },
   "outputs": [],
   "source": [
    "def resolve_uri(uri):\n",
    "    return uri.split(\"/\")[-1].replace(\"_\", \" \")"
   ]
  },
  {
   "cell_type": "code",
   "execution_count": 24,
   "metadata": {
    "collapsed": false
   },
   "outputs": [],
   "source": [
    "def get_predicate_value(properties, predicate, multi_valued=False, transformation=None):\n",
    "    if predicate not in properties:\n",
    "        return \"\"\n",
    "    limit = len(predicate[properties]) if multi_valued else 1\n",
    "    value = \"\"\n",
    "    for i in range(limit):\n",
    "        if i > 0:\n",
    "            value += \" \"\n",
    "        v = predicate[properties][i]\n",
    "        v_str = str(v['value']) if v['type'] == \"literal\" else resolve_uri(v['value'])\n",
    "        if transformation == \"categories\":\n",
    "            v_str = v_str[9:]\n",
    "        value += v_str\n",
    "    return value"
   ]
  },
  {
   "cell_type": "code",
   "execution_count": 25,
   "metadata": {
    "collapsed": true
   },
   "outputs": [],
   "source": [
    "def get_movie_doc(properties):\n",
    "    doc = {\n",
    "        'title': get_predicate_value(properties, TITLE_PREDICATE),\n",
    "        'description': get_predicate_value(properties, DESCRIPTION_PREDICATE),\n",
    "        'categories': get_predicate_value(properties, CATEGORIES_PREDICATE, multi_valued=True, transformation=\"categories\"),\n",
    "        'directors': get_predicate_value(properties, DIRECTORS_PREDICATE, multi_valued=True),\n",
    "        'actors': get_predicate_value(properties, ACTORS_PREDICATE, multi_valued=True)\n",
    "    }    \n",
    "    return doc"
   ]
  },
  {
   "cell_type": "code",
   "execution_count": 21,
   "metadata": {
    "collapsed": true
   },
   "outputs": [],
   "source": [
    "from pprint import pprint"
   ]
  },
  {
   "cell_type": "code",
   "execution_count": 38,
   "metadata": {
    "collapsed": false
   },
   "outputs": [
    {
     "name": "stdout",
     "output_type": "stream",
     "text": [
      "List_of_20th_Century_Fox_films_%281935%E2%80%9399%29\n",
      "{'http://dbpedia.org/resource/List_of_20th_Century_Fox_films_(1935–99)': {'http://www.w3.org/2000/01/rdf-schema#label': [{'type': 'literal', 'value': 'List of 20th Century Fox films (1935–99)', 'lang': 'en'}], 'http://www.w3.org/2000/01/rdf-schema#comment': [{'type': 'literal', 'value': 'This is a list of films produced by the U.S. film studio 20th Century Fox Film Corporation and released between its May 31, 1935 creation – as a merger between Fox Film Corporation (1915–1935) and 20th Century Pictures (1933–1936) – until 1999. For subsequent releases by 20th Century Fox, see List of 20th Century Fox films (2000–present).', 'lang': 'en'}], 'http://www.w3.org/2002/07/owl#sameAs': [{'type': 'uri', 'value': 'http://dbpedia.org/resource/List_of_20th_Century_Fox_films_(1935–99)'}, {'type': 'uri', 'value': 'http://www.wikidata.org/entity/Q6571123'}, {'type': 'uri', 'value': 'http://ko.dbpedia.org/resource/20세기_폭스의_영화_목록_(1935년-1999년)'}, {'type': 'uri', 'value': 'http://wikidata.dbpedia.org/resource/Q6571123'}, {'type': 'uri', 'value': 'http://dbpedia.org/resource/List_of_20th_Century_Fox_films_(1935–99)'}], 'http://purl.org/dc/terms/subject': [{'type': 'uri', 'value': 'http://dbpedia.org/resource/Category:American_films_by_studio'}, {'type': 'uri', 'value': 'http://dbpedia.org/resource/Category:20th_Century_Fox_films'}, {'type': 'uri', 'value': 'http://dbpedia.org/resource/Category:Cinema_of_Southern_California'}, {'type': 'uri', 'value': 'http://dbpedia.org/resource/Category:Lists_of_films_by_studio'}], 'http://xmlns.com/foaf/0.1/isPrimaryTopicOf': [{'type': 'uri', 'value': 'http://en.wikipedia.org/wiki/List_of_20th_Century_Fox_films_(1935–99)'}], 'http://www.w3.org/ns/prov#wasDerivedFrom': [{'type': 'uri', 'value': 'http://en.wikipedia.org/wiki/List_of_20th_Century_Fox_films_(1935–99)?oldid=744349179'}], 'http://dbpedia.org/ontology/wikiPageExternalLink': [{'type': 'uri', 'value': 'http://www.imdb.com/company/co0067247/'}], 'http://dbpedia.org/ontology/abstract': [{'type': 'literal', 'value': 'This is a list of films produced by the U.S. film studio 20th Century Fox Film Corporation and released between its May 31, 1935 creation – as a merger between Fox Film Corporation (1915–1935) and 20th Century Pictures (1933–1936) – until 1999. For subsequent releases by 20th Century Fox, see List of 20th Century Fox films (2000–present).', 'lang': 'en'}], 'http://dbpedia.org/ontology/wikiPageRevisionID': [{'type': 'literal', 'value': 744349179, 'datatype': 'http://www.w3.org/2001/XMLSchema#integer'}], 'http://dbpedia.org/ontology/wikiPageID': [{'type': 'literal', 'value': 13048654, 'datatype': 'http://www.w3.org/2001/XMLSchema#integer'}]}, 'http://en.wikipedia.org/wiki/List_of_20th_Century_Fox_films_(1935–99)': {'http://xmlns.com/foaf/0.1/primaryTopic': [{'type': 'uri', 'value': 'http://dbpedia.org/resource/List_of_20th_Century_Fox_films_(1935–99)'}]}, 'http://dbpedia.org/resource/List_of_20th_Century_Fox_films_(1935–1999)': {'http://dbpedia.org/ontology/wikiPageRedirects': [{'type': 'uri', 'value': 'http://dbpedia.org/resource/List_of_20th_Century_Fox_films_(1935–99)'}]}, 'http://dbpedia.org/resource/List_of_Fox_films': {'http://dbpedia.org/ontology/wikiPageRedirects': [{'type': 'uri', 'value': 'http://dbpedia.org/resource/List_of_20th_Century_Fox_films_(1935–99)'}]}, 'http://dbpedia.org/resource/List_of_20th_Century_Fox_films_(1915–2000)': {'http://dbpedia.org/ontology/wikiPageRedirects': [{'type': 'uri', 'value': 'http://dbpedia.org/resource/List_of_20th_Century_Fox_films_(1935–99)'}]}, 'http://dbpedia.org/resource/List_of_pre-1940_Fox_films': {'http://dbpedia.org/ontology/wikiPageRedirects': [{'type': 'uri', 'value': 'http://dbpedia.org/resource/List_of_20th_Century_Fox_films_(1935–99)'}]}, 'http://dbpedia.org/resource/One_Mad_Kiss': {'http://dbpedia.org/ontology/wikiPageRedirects': [{'type': 'uri', 'value': 'http://dbpedia.org/resource/List_of_20th_Century_Fox_films_(1935–99)'}]}, 'http://dbpedia.org/resource/List_of_20th_Century_Fox_films_(1935-99)': {'http://dbpedia.org/ontology/wikiPageRedirects': [{'type': 'uri', 'value': 'http://dbpedia.org/resource/List_of_20th_Century_Fox_films_(1935–99)'}]}, 'http://dbpedia.org/resource/List_of_20th_Century_Fox_films_(1915-2000)': {'http://dbpedia.org/ontology/wikiPageRedirects': [{'type': 'uri', 'value': 'http://dbpedia.org/resource/List_of_20th_Century_Fox_films_(1935–99)'}]}, 'http://dbpedia.org/resource/List_of_20th_Century_Fox_films_in_the_20th_century': {'http://dbpedia.org/ontology/wikiPageRedirects': [{'type': 'uri', 'value': 'http://dbpedia.org/resource/List_of_20th_Century_Fox_films_(1935–99)'}]}, 'http://dbpedia.org/resource/List_of_Fox_films_before_1940': {'http://dbpedia.org/ontology/wikiPageRedirects': [{'type': 'uri', 'value': 'http://dbpedia.org/resource/List_of_20th_Century_Fox_films_(1935–99)'}]}, 'http://dbpedia.org/resource/List_of_20th_Century_Fox_films_(1935-1999)': {'http://dbpedia.org/ontology/wikiPageRedirects': [{'type': 'uri', 'value': 'http://dbpedia.org/resource/List_of_20th_Century_Fox_films_(1935–99)'}]}}\n"
     ]
    }
   ],
   "source": [
    "for page in pages:\n",
    "    url_name = urllib.parse.quote(page.replace(\" \", \"_\"))\n",
    "    print(url_name)\n",
    "    data = requests.get(\"http://dbpedia.org/data/{}.json\".format(url_name)).json()\n",
    "    print(data)\n",
    "    break\n",
    "    dict_key = \"http://dbpedia.org/resource/{}\".format(url_name)\n",
    "    if dict_key not in data:\n",
    "        continue\n",
    "    properties = data[dict_key]\n",
    "    # Filter out non-movies (as well as entities without any type)\n",
    "    if not has_type(properties, \"http://dbpedia.org/ontology/Movie\"):\n",
    "        continue    \n",
    "    print(\"getting props\")\n",
    "    pprint(get_movie_doc(properties))\n",
    "    break"
   ]
  },
  {
   "cell_type": "markdown",
   "metadata": {},
   "source": [
    "## MLM for ranking movies\n",
    "\n",
    "Implement the mixture of language models for ranking movies"
   ]
  },
  {
   "cell_type": "code",
   "execution_count": null,
   "metadata": {
    "collapsed": true
   },
   "outputs": [],
   "source": [
    "# TODO update field names and weights\n",
    "FIELDS = [\"title\", \"content\"]\n",
    "FIELD_WEIGHTS = [0.2, 0.8]\n",
    "LAMBDA = 0.1"
   ]
  },
  {
   "cell_type": "markdown",
   "metadata": {},
   "source": [
    "Documents should be scored according to **query (log)likelihood**: \n",
    "\n",
    "$\\log P(q|d) = \\sum_{t \\in q} f_{t,q} \\log P(t|\\theta_d)$, \n",
    "\n",
    "where\n",
    "  - $f_{t,q}$ is the frequency of term $t$ in the query\n",
    "  - $P(t|\\theta_d)$ is the (smoothed) document language model.\n",
    "  \n",
    "Using multiple document fields, the **document language model** is taken to be a linear combination of the (smoothed) field language models:\n",
    "\n",
    "$P(t|\\theta_d) = \\sum_i w_i P(t|\\theta_{d_i})$ ,\n",
    "\n",
    "where $w_i$ is the field weight for field $i$ (and $\\sum_i w_i = 1$).\n",
    "\n",
    "The **field language models** $P(t|\\theta_{d_i})$ are computed as follows.\n",
    "\n",
    "Using **Jelinek-Mercer smoothing**:\n",
    "\n",
    "$P(t|\\theta_{d_i}) = (1-\\lambda_i) P(t|d_i) + \\lambda_i P(t|C_i)$,\n",
    "\n",
    "where \n",
    "\n",
    "  - $\\lambda_i$ is a field-specific smoothing parameter\n",
    "  - $P(t|d_i) = \\frac{f_{t,d_i}}{|d_i|}$ is the empirical field language model (term's relative frequency in the document field). $f_{t,d_i}$ is the raw frequency of $t$ in field $i$ of $d$. $|d_i|$ is the length (number of terms) in field $i$ of $d$.\n",
    "  - $P(t|C_i) = \\frac{\\sum_{d'}f_{t,d'_i}}{\\sum_{d'}|d'_i|}$ is the collecting field language model (term's relative frequency in that field across the entire collection)\n",
    "  \n",
    "Using **Dirichlet smoothing**:\n",
    "\n",
    "$p(t|\\theta_{d_i}) = \\frac{f_{t,d_i} + \\mu_i P(t|C_i)}{|d_i| + \\mu_i}$\n",
    "\n",
    "where $\\mu_i$ is the field-specific smoothing parameter."
   ]
  },
  {
   "cell_type": "markdown",
   "metadata": {},
   "source": [
    "#### Collection Language Model class\n",
    "\n",
    "This class is used for obtaining collection language modeling probabilities  P(t|Ci)P(t|Ci) .\n",
    "\n",
    "The reason this class is needed is that es.termvectors does not return term statistics for terms that do not appear in the given document. This would cause problems in scoring documents that are partial matches (do not contain all query terms in all fields).\n",
    "\n",
    "The idea is that for each query term, we need to find a document that contains that term. Then the collection term statistics are available from that document's term vector. To make sure we find a matching document, we issue a boolean (match) query."
   ]
  },
  {
   "cell_type": "code",
   "execution_count": null,
   "metadata": {
    "collapsed": true
   },
   "outputs": [],
   "source": [
    "class CollectionLM(object):\n",
    "    def __init__(self, es, qterms):\n",
    "        self._es = es\n",
    "        self._probs = {}\n",
    "        # computing P(t|C_i) for each field and for each query term\n",
    "        for field in FIELDS:\n",
    "            self._probs[field] = {}\n",
    "            for t in qterms:\n",
    "                self._probs[field][t] = self._get_prob(field, t)\n",
    "        \n",
    "    def _get_prob(self, field, term):\n",
    "        # Use a boolean query to find a document that contains the term\n",
    "        hits = self._es.search(index=INDEX_NAME, body={\"query\": {\"match\": {field: term}}},\n",
    "                               _source=False, size=1).get(\"hits\", {}).get(\"hits\", {})\n",
    "        doc_id = hits[0][\"_id\"] if len(hits) > 0 else None\n",
    "        if doc_id is not None:\n",
    "            # Ask for global term statistics when requesting the term vector of that doc (`term_statistics=True`)\n",
    "            # TODO: complete this part            \n",
    "            return 0\n",
    "\n",
    "        return 0  # this only happens if none of the documents contain that term\n",
    "\n",
    "    def prob(self, field, term):\n",
    "        return self._probs.get(field, {}).get(term, 0)"
   ]
  },
  {
   "cell_type": "markdown",
   "metadata": {},
   "source": [
    "#### Document scorer"
   ]
  },
  {
   "cell_type": "code",
   "execution_count": null,
   "metadata": {
    "collapsed": true
   },
   "outputs": [],
   "source": [
    "def score_mlm(es, clm, qterms, doc_id):\n",
    "    score = 0  # log P(q|d)\n",
    "    \n",
    "    # Getting term frequency statistics for the given document field from Elasticsearch\n",
    "    # Note that global term statistics are not needed (`term_statistics=False`)\n",
    "    tv = es.termvectors(index=INDEX_NAME, id=doc_id, fields=FIELDS,\n",
    "                              term_statistics=False).get(\"term_vectors\", {})\n",
    "\n",
    "    # compute field lengths $|d_i|$\n",
    "    len_d_i = []  # document field length\n",
    "    for i, field in enumerate(FIELDS):\n",
    "        if field in tv: \n",
    "            len_d_i.append(sum([s[\"term_freq\"] for t, s in tv[field][\"terms\"].items()]))\n",
    "        else:  # that document field may be empty\n",
    "            len_d_i.append(0)\n",
    "        \n",
    "    # scoring the query\n",
    "    for t in qterms:\n",
    "        Pt_theta_d = 0  # P(t|\\theta_d)\n",
    "        for i, field in enumerate(FIELDS):\n",
    "            if field in tv:\n",
    "                Pt_di = tv[field][\"terms\"].get(t, {}).get(\"term_freq\", 0) / len_d_i[i]  # $P(t|d_i)$\n",
    "            else:  # that document field is empty\n",
    "                Pt_di = 0\n",
    "            Pt_Ci = clm.prob(field, t)  # $P(t|C_i)$\n",
    "            Pt_theta_di = (1 - LAMBDA) * Pt_di + LAMBDA * Pt_Ci  # $P(t|\\theta_{d_i})$ with J-M smoothing\n",
    "            Pt_theta_d += FIELD_WEIGHTS[i] * Pt_theta_di\n",
    "        score += math.log(Pt_theta_d)    \n",
    "    \n",
    "    return score"
   ]
  },
  {
   "cell_type": "markdown",
   "metadata": {},
   "source": [
    "#### Scoring queries\n",
    "\n",
    "Perform an initial retrieval using the default ranking in Elasticsearch, then re-score each document using `score_mlm()`."
   ]
  },
  {
   "cell_type": "code",
   "execution_count": null,
   "metadata": {
    "collapsed": true
   },
   "outputs": [],
   "source": [
    "query = \"TODO\""
   ]
  },
  {
   "cell_type": "code",
   "execution_count": null,
   "metadata": {
    "collapsed": false
   },
   "outputs": [],
   "source": [
    "# get top 100 docs using BM25\n",
    "res = es.search(index=INDEX_NAME, q=query, df=\"content\", _source=False, size=200).get('hits', {})\n",
    "\n",
    "# re-score docs using MLM\n",
    "\n",
    "# TODO: get analyzed query\n",
    "qterms = []\n",
    "\n",
    "# get collection LM \n",
    "# (this needs to be instantiated only once per query and can be used for scoring all documents)\n",
    "clm = CollectionLM(es, qterms)        \n",
    "scores = {}\n",
    "for doc in res.get(\"hits\", {}):\n",
    "    doc_id = doc.get(\"_id\")\n",
    "    scores[doc_id] = score_mlm(es, clm, qterms, doc_id)\n",
    "\n",
    "# TODO output top 5 documents"
   ]
  },
  {
   "cell_type": "markdown",
   "metadata": {},
   "source": [
    "## PRMS\n",
    "\n",
    "Implement field-specific term weighting using PRMS"
   ]
  },
  {
   "cell_type": "code",
   "execution_count": null,
   "metadata": {
    "collapsed": true
   },
   "outputs": [],
   "source": [
    "# TODO"
   ]
  }
 ],
 "metadata": {
  "kernelspec": {
   "display_name": "Python 3",
   "language": "python",
   "name": "python3"
  },
  "language_info": {
   "codemirror_mode": {
    "name": "ipython",
    "version": 3
   },
   "file_extension": ".py",
   "mimetype": "text/x-python",
   "name": "python",
   "nbconvert_exporter": "python",
   "pygments_lexer": "ipython3",
   "version": "3.6.9"
  }
 },
 "nbformat": 4,
 "nbformat_minor": 2
}
