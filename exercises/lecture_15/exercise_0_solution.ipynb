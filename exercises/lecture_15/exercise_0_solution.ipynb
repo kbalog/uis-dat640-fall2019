{
 "cells": [
  {
   "cell_type": "markdown",
   "metadata": {},
   "source": [
    "# Exercise #0: Getting term probabilities from Elasticsearch"
   ]
  },
  {
   "cell_type": "markdown",
   "metadata": {},
   "source": [
    "For this exercise, you may use any existing Elasticsearch index you have locally.\n",
    "\n",
    "Your task is to implement the two method below, for returning the empirical (i.e., unsmoothed) probability of a term in a given document and in the collection (both w.r.t. a specific field). That is, simply the relative frequency of the term in the document field or in the collection.\n",
    "\n",
    "Relevant documentation:\n",
    "  * Elasticsearch API endpoint: https://www.elastic.co/guide/en/elasticsearch/reference/current/docs-termvectors.html\n",
    "  * Respective Python client call: https://elasticsearch-py.readthedocs.io/en/master/api.html?highlight=termvectors#elasticsearch.Elasticsearch.termvectors"
   ]
  },
  {
   "cell_type": "code",
   "execution_count": 8,
   "metadata": {
    "collapsed": true
   },
   "outputs": [],
   "source": [
    "from elasticsearch import Elasticsearch\n",
    "\n",
    "es = Elasticsearch()"
   ]
  },
  {
   "cell_type": "markdown",
   "metadata": {},
   "source": [
    "Using the Wikipedia index from [Lecture 13](https://github.com/kbalog/uis-dat640-fall2019/tree/master/exercises/lecture_13) Exercise 1, with fields `title` and `content`."
   ]
  },
  {
   "cell_type": "code",
   "execution_count": 3,
   "metadata": {
    "collapsed": true
   },
   "outputs": [],
   "source": [
    "INDEX_NAME = \"wikipedia\""
   ]
  },
  {
   "cell_type": "markdown",
   "metadata": {},
   "source": [
    "## Document term probability P(t|d)"
   ]
  },
  {
   "cell_type": "code",
   "execution_count": 4,
   "metadata": {
    "collapsed": false
   },
   "outputs": [],
   "source": [
    "def get_document_term_prob(term, doc_id, field):\n",
    "    # Get the term vector for that field\n",
    "    tv = es.termvectors(index=INDEX_NAME, id=doc_id, fields=field, term_statistics=True)['term_vectors'][field]        \n",
    "    tf = 0\n",
    "    if term in tv['terms']:\n",
    "        tf = tv['terms'][term]['term_freq']\n",
    "        \n",
    "    # Document length is calculated\n",
    "    len_d = sum([s['term_freq'] for t, s in tv['terms'].items()])    \n",
    "    \n",
    "    return tf / len_d"
   ]
  },
  {
   "cell_type": "code",
   "execution_count": 5,
   "metadata": {
    "collapsed": false
   },
   "outputs": [
    {
     "name": "stdout",
     "output_type": "stream",
     "text": [
      "0.045936395759717315\n"
     ]
    }
   ],
   "source": [
    "# Note the indexing applies stemming\n",
    "print(get_document_term_prob(\"citi\", \"Stavanger\", \"content\"))"
   ]
  },
  {
   "cell_type": "markdown",
   "metadata": {},
   "source": [
    "## Collection term probability P(t|C)"
   ]
  },
  {
   "cell_type": "code",
   "execution_count": 6,
   "metadata": {
    "collapsed": true
   },
   "outputs": [],
   "source": [
    "def get_collection_term_prob(term, field):\n",
    "    # Use a boolean query to find a document that contains the term\n",
    "    hits = es.search(index=INDEX_NAME, body={\"query\": {\"match\": {field: term}}},\n",
    "                               _source=False, size=1).get(\"hits\", {}).get(\"hits\", {})\n",
    "    doc_id = hits[0]['_id'] if len(hits) > 0 else None\n",
    "    if doc_id is not None:\n",
    "        # Ask for global term statistics when requesting the term vector of that doc\n",
    "        tv = es.termvectors(index=INDEX_NAME, id=doc_id, fields=field, term_statistics=True)['term_vectors'][field]\n",
    "        ttf = tv['terms'].get(term, {}).get(\"ttf\", 0)  # total term count in the collection (in that field)\n",
    "        sum_ttf = tv['field_statistics']['sum_ttf']\n",
    "        return ttf / sum_ttf\n",
    "\n",
    "    return 0  # this only happens if none of the documents contain that term"
   ]
  },
  {
   "cell_type": "code",
   "execution_count": 7,
   "metadata": {
    "collapsed": false
   },
   "outputs": [
    {
     "data": {
      "text/plain": [
       "0.0337129840546697"
      ]
     },
     "execution_count": 7,
     "metadata": {},
     "output_type": "execute_result"
    }
   ],
   "source": [
    "get_collection_term_prob(\"citi\", \"content\")"
   ]
  }
 ],
 "metadata": {
  "kernelspec": {
   "display_name": "Python 3",
   "language": "python",
   "name": "python3"
  },
  "language_info": {
   "codemirror_mode": {
    "name": "ipython",
    "version": 3
   },
   "file_extension": ".py",
   "mimetype": "text/x-python",
   "name": "python",
   "nbconvert_exporter": "python",
   "pygments_lexer": "ipython3",
   "version": "3.6.9"
  }
 },
 "nbformat": 4,
 "nbformat_minor": 2
}
